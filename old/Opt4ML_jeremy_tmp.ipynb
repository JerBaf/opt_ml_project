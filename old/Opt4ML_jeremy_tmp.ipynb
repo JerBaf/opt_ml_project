{
 "cells": [
  {
   "cell_type": "markdown",
   "metadata": {},
   "source": [
    "# Opt4ML project"
   ]
  },
  {
   "cell_type": "code",
   "execution_count": 1,
   "metadata": {},
   "outputs": [],
   "source": [
    "# General libraries\n",
    "import torch\n",
    "from torch import nn\n",
    "from torch.utils.data import Dataset\n",
    "from torch.utils.data import DataLoader\n",
    "from torchvision.transforms import ToTensor, Lambda, Pad\n",
    "from torchmetrics import F1Score\n",
    "import torch.nn.functional as F\n",
    "import numpy as np\n",
    "import pandas as pd\n",
    "import matplotlib.pyplot as plt\n",
    "import cv2\n",
    "import os\n",
    "from os import listdir\n",
    "from os.path import join, isfile\n",
    "from collections import Counter\n",
    "import random\n",
    "# Custom libraries\n",
    "from plot_helpers import *\n",
    "from image_processing_helpers import *\n",
    "from k_means import *\n",
    "import custom_optimizers as opt\n",
    "# Allow autoreload\n",
    "%load_ext autoreload\n",
    "%autoreload 2"
   ]
  },
  {
   "cell_type": "code",
   "execution_count": 2,
   "metadata": {},
   "outputs": [
    {
     "name": "stdout",
     "output_type": "stream",
     "text": [
      "cuda:0\n"
     ]
    }
   ],
   "source": [
    "device = torch.device('cuda:0' if torch.cuda.is_available() else 'cpu')\n",
    "#device = \"cpu\"\n",
    "print(device)"
   ]
  },
  {
   "cell_type": "markdown",
   "metadata": {},
   "source": [
    "## Reproducibility "
   ]
  },
  {
   "cell_type": "code",
   "execution_count": 3,
   "metadata": {},
   "outputs": [
    {
     "data": {
      "text/plain": [
       "<torch._C.Generator at 0x18d27d0c430>"
      ]
     },
     "execution_count": 3,
     "metadata": {},
     "output_type": "execute_result"
    }
   ],
   "source": [
    "seed = 2022\n",
    "\n",
    "torch.manual_seed(seed)\n",
    "random.seed(seed)\n",
    "np.random.seed(seed)\n",
    "\n",
    "def seed_worker(worker_id):\n",
    "    worker_seed = torch.initial_seed() % 2**32\n",
    "    numpy.random.seed(worker_seed)\n",
    "    random.seed(worker_seed)\n",
    "    \n",
    "g = torch.Generator()\n",
    "g.manual_seed(seed)"
   ]
  },
  {
   "cell_type": "markdown",
   "metadata": {},
   "source": [
    "## Create Validation Set"
   ]
  },
  {
   "cell_type": "code",
   "execution_count": 4,
   "metadata": {},
   "outputs": [
    {
     "data": {
      "text/plain": [
       "(60000, 785)"
      ]
     },
     "execution_count": 4,
     "metadata": {},
     "output_type": "execute_result"
    }
   ],
   "source": [
    "training_data = pd.read_csv(\"data/fashion_mnist/fashion-mnist_train.csv\")\n",
    "training_data.shape"
   ]
  },
  {
   "cell_type": "code",
   "execution_count": 5,
   "metadata": {},
   "outputs": [],
   "source": [
    "label_idx = training_data.groupby(\"label\").indices\n",
    "validation_idx = np.empty(0)\n",
    "for label, idx in label_idx.items():\n",
    "    random_sampling = np.random.choice(idx,idx.shape[0]//10,replace=False)\n",
    "    validation_idx = np.concatenate([validation_idx,random_sampling],axis=0)\n",
    "training_idx = [i for i in training_data.index if i not in validation_idx]"
   ]
  },
  {
   "cell_type": "code",
   "execution_count": 6,
   "metadata": {},
   "outputs": [],
   "source": [
    "new_training_set = training_data.iloc[training_idx]\n",
    "new_validation_set = training_data.iloc[validation_idx]"
   ]
  },
  {
   "cell_type": "code",
   "execution_count": 7,
   "metadata": {},
   "outputs": [],
   "source": [
    "new_training_set.to_csv(\"data/fashion_mnist/fashion-mnist_new_train.csv\",index=False)\n",
    "new_validation_set.to_csv(\"data/fashion_mnist/fashion-mnist_new_validation.csv\",index=False)"
   ]
  },
  {
   "cell_type": "markdown",
   "metadata": {},
   "source": [
    "## Import Data"
   ]
  },
  {
   "cell_type": "code",
   "execution_count": 4,
   "metadata": {},
   "outputs": [],
   "source": [
    "class Fashion_Dataset(torch.utils.data.Dataset):\n",
    "    def __init__(self, data_path, transform=None, target_transform=None):\n",
    "        data = pd.read_csv(data_path)\n",
    "        self.labels_df = data[\"label\"]\n",
    "        self.img_labels = data[\"label\"].to_list()\n",
    "        self.images = [(row.to_numpy(dtype=np.float32)/255).reshape((28,28))  \n",
    "                for idx,row in data[data.columns[1:]].iterrows()]\n",
    "        self.label_mapping = {0:\"T-shirt/top\", 1:\"Trouser\",\n",
    "                 2:\"Pullover\", 3:\"Dress\", 4:\"Coat\",\n",
    "                 5:\"Sandal\", 6:\"Shirt\", 7:\"Sneaker\",\n",
    "                 8:\"Bag\", 9:\"Ankle boot\"}\n",
    "        self.transform = transform\n",
    "        self.target_transform = target_transform\n",
    "\n",
    "    def __len__(self):\n",
    "        return len(self.img_labels)\n",
    "\n",
    "    def __getitem__(self, idx):\n",
    "        image = self.images[idx]\n",
    "        label = self.img_labels[idx]\n",
    "        if self.transform:\n",
    "            image = self.transform(image)\n",
    "        if self.target_transform:\n",
    "            label = self.target_transform(label)\n",
    "        #image = Pad(2)(image)\n",
    "        return image, label"
   ]
  },
  {
   "cell_type": "code",
   "execution_count": 5,
   "metadata": {},
   "outputs": [],
   "source": [
    "train_dataset = Fashion_Dataset(\"data/fashion_mnist/fashion-mnist_new_train.csv\",transform=ToTensor(),\n",
    "    target_transform=Lambda(lambda y: torch.zeros(10, dtype=torch.float).scatter_(0, torch.tensor(y), value=1)))\n",
    "test_dataset = Fashion_Dataset(\"data/fashion_mnist/fashion-mnist_test.csv\",transform=ToTensor(),\n",
    "    target_transform=Lambda(lambda y: torch.zeros(10, dtype=torch.float).scatter_(0, torch.tensor(y), value=1)))\n",
    "validation_dataset = Fashion_Dataset(\"data/fashion_mnist/fashion-mnist_new_validation.csv\",transform=ToTensor(),\n",
    "    target_transform=Lambda(lambda y: torch.zeros(10, dtype=torch.float).scatter_(0, torch.tensor(y), value=1)))"
   ]
  },
  {
   "cell_type": "code",
   "execution_count": 6,
   "metadata": {},
   "outputs": [],
   "source": [
    "batch_size = 4096\n",
    "train_dataloader = DataLoader(train_dataset,batch_size=batch_size,shuffle=True,\n",
    "                                worker_init_fn=seed_worker, generator=g)\n",
    "test_dataloader = DataLoader(train_dataset,batch_size=batch_size,shuffle=True,\n",
    "                                worker_init_fn=seed_worker, generator=g)\n",
    "validation_dataloader = DataLoader(validation_dataset,batch_size=batch_size,shuffle=True,\n",
    "                                worker_init_fn=seed_worker, generator=g)"
   ]
  },
  {
   "cell_type": "markdown",
   "metadata": {},
   "source": [
    "## EDA"
   ]
  },
  {
   "cell_type": "markdown",
   "metadata": {},
   "source": [
    "#### Data example"
   ]
  },
  {
   "cell_type": "code",
   "execution_count": 7,
   "metadata": {},
   "outputs": [
    {
     "name": "stdout",
     "output_type": "stream",
     "text": [
      "Feature batch shape: torch.Size([4096, 1, 28, 28])\n",
      "Labels batch shape: torch.Size([4096, 10])\n",
      "Labels: tensor([0., 0., 0., 0., 1., 0., 0., 0., 0., 0.])\n"
     ]
    },
    {
     "data": {
      "image/png": "[encoded data removed]",
      "text/plain": [
       "<Figure size 1152x648 with 1 Axes>"
      ]
     },
     "metadata": {
      "needs_background": "light"
     },
     "output_type": "display_data"
    }
   ],
   "source": [
    "# Display image and label.\n",
    "train_features, train_labels = next(iter(train_dataloader))\n",
    "print(f\"Feature batch shape: {train_features.size()}\")\n",
    "print(f\"Labels batch shape: {train_labels.size()}\")\n",
    "img = train_features[0,0,:,:]\n",
    "label = train_labels[0]\n",
    "show_images([img])\n",
    "print(f\"Labels: {label}\")"
   ]
  },
  {
   "cell_type": "markdown",
   "metadata": {},
   "source": [
    "#### Labels Distribution"
   ]
  },
  {
   "cell_type": "code",
   "execution_count": 8,
   "metadata": {},
   "outputs": [
    {
     "data": {
      "image/png": "[encoded data removed]",
      "text/plain": [
       "<Figure size 1080x360 with 1 Axes>"
      ]
     },
     "metadata": {
      "needs_background": "light"
     },
     "output_type": "display_data"
    }
   ],
   "source": [
    "labels_hist = train_dataset.labels_df.value_counts().to_dict()\n",
    "fig,ax = plt.subplots(figsize=(15,5))\n",
    "labels_names = [train_dataset.label_mapping[i] for i in labels_hist.keys()]\n",
    "ax.bar(labels_names,labels_hist.values())\n",
    "ax.set_title(\"Training Set Class Distribution \");"
   ]
  },
  {
   "cell_type": "markdown",
   "metadata": {},
   "source": [
    "## Model Creation"
   ]
  },
  {
   "cell_type": "markdown",
   "metadata": {},
   "source": [
    "#### Model Architecture"
   ]
  },
  {
   "cell_type": "code",
   "execution_count": 17,
   "metadata": {},
   "outputs": [
    {
     "data": {
      "text/plain": [
       "SimpleCNN(\n",
       "  (conv1): Conv2d(1, 64, kernel_size=(3, 3), stride=(1, 1))\n",
       "  (pool): MaxPool2d(kernel_size=2, stride=2, padding=0, dilation=1, ceil_mode=False)\n",
       "  (conv2): Conv2d(64, 64, kernel_size=(4, 4), stride=(1, 1))\n",
       "  (flatten): Flatten(start_dim=1, end_dim=-1)\n",
       "  (fc1): Linear(in_features=1600, out_features=16, bias=True)\n",
       "  (fc2): Linear(in_features=16, out_features=10, bias=True)\n",
       ")"
      ]
     },
     "execution_count": 17,
     "metadata": {},
     "output_type": "execute_result"
    }
   ],
   "source": [
    "class SimpleCNN(nn.Module):\n",
    "    def __init__(self):\n",
    "        super(SimpleCNN, self).__init__()\n",
    "        self.conv1 = nn.Conv2d(1,64,kernel_size=3)\n",
    "        self.pool = nn.MaxPool2d(2,2)\n",
    "        self.conv2 = nn.Conv2d(64,64,kernel_size=4)\n",
    "        self.flatten = nn.Flatten()\n",
    "        self.fc1 = nn.Linear(5*5*64, 16)\n",
    "        self.fc2 = nn.Linear(16, 10)\n",
    "\n",
    "    def forward(self, x):\n",
    "        x = self.pool(F.relu(self.conv1(x)))\n",
    "        x = self.pool(F.relu(self.conv2(x)))\n",
    "        x = self.flatten(x)\n",
    "        x = F.relu(self.fc1(x))\n",
    "        x = F.softmax(self.fc2(x))\n",
    "        return x\n",
    "\n",
    "model = SimpleCNN()\n",
    "model.to(device)"
   ]
  },
  {
   "cell_type": "markdown",
   "metadata": {},
   "source": [
    "#### Criterium and loss"
   ]
  },
  {
   "cell_type": "code",
   "execution_count": 18,
   "metadata": {},
   "outputs": [],
   "source": [
    "criterion = nn.CrossEntropyLoss()\n",
    "#optimizer = opt.SGDOptimizer(model.parameters(),lr=1,momentum=0.9)\n",
    "optimizer = torch.optim.SGD(model.parameters(),lr=0.3,momentum=0.9)\n",
    "#optimizer= opt.MomentumSGDOptimizer(model.parameters(), lr=1, rho=0.9)\n",
    "f1 = F1Score(num_classes=10)"
   ]
  },
  {
   "cell_type": "markdown",
   "metadata": {},
   "source": [
    "## Training"
   ]
  },
  {
   "cell_type": "code",
   "execution_count": 19,
   "metadata": {},
   "outputs": [],
   "source": [
    "def compute_accuracy(dataloader):\n",
    "    correct = 0\n",
    "    total = 0\n",
    "    # since we're not training, we don't need to calculate the gradients for our outputs\n",
    "    with torch.no_grad():\n",
    "        for data in dataloader:\n",
    "            images, labels = data[0].to(device), data[1].to(device)\n",
    "\n",
    "            # calculate outputs by running images through the network\n",
    "            outputs = model(images)\n",
    "            # the class with the highest energy is what we choose as prediction\n",
    "            _, predicted = torch.max(outputs.data, 1)\n",
    "            _, truth_label = torch.max(labels.data, 1)\n",
    "            total += labels.size(0)\n",
    "            correct += (predicted == truth_label).sum().item()\n",
    "    return 100*correct/total\n",
    "\n",
    "def validation_metrics(dataloader):\n",
    "    correct = 0\n",
    "    total = 0\n",
    "    # since we're not training, we don't need to calculate the gradients for our outputs\n",
    "    with torch.no_grad():\n",
    "        running_loss = 0.0\n",
    "        pred_buffer = torch.empty(0).to(device)\n",
    "        label_buffer = torch.empty(0).to(device)\n",
    "        for data in dataloader:\n",
    "            images, labels = data[0].to(device), data[1].to(device)\n",
    "\n",
    "            # calculate outputs by running images through the network\n",
    "            outputs = model(images)\n",
    "            loss = criterion(outputs, labels)\n",
    "            # the class with the highest energy is what we choose as prediction\n",
    "            _, predicted = torch.max(outputs.data, 1)\n",
    "            _, truth_label = torch.max(labels.data, 1)\n",
    "            total += labels.size(0)\n",
    "            correct += (predicted == truth_label).sum().item()\n",
    "            running_loss += loss.item()\n",
    "            pred_buffer = torch.cat([pred_buffer,outputs],dim=0)\n",
    "            label_buffer = torch.cat([label_buffer,labels],dim=0)\n",
    "    val_loss = running_loss / len(dataloader)\n",
    "    val_f1 = f1(pred_buffer.cpu(),label_buffer.int().cpu()).item()\n",
    "    val_acc = 100*correct/total\n",
    "    return val_loss, val_f1, val_acc "
   ]
  },
  {
   "cell_type": "code",
   "execution_count": 20,
   "metadata": {
    "scrolled": true
   },
   "outputs": [
    {
     "name": "stderr",
     "output_type": "stream",
     "text": [
      "C:\\Users\\jerem\\AppData\\Local\\Temp\\ipykernel_12252\\571705098.py:16: UserWarning: Implicit dimension choice for softmax has been deprecated. Change the call to include dim=X as an argument.\n",
      "  x = F.softmax(self.fc2(x))\n"
     ]
    },
    {
     "name": "stdout",
     "output_type": "stream",
     "text": [
      "Epoch 1\t Iteration 14\t Train_Loss: 2.30169\t Train_F1_Score: 0.00000\t Train_Accuracy: 17.14444\t Val_Loss: 2.29986\t Val_F1_Score: 0.00000\t Val_Accuracy: 17.40000\n",
      "Epoch 2\t Iteration 14\t Train_Loss: 2.29489\t Train_F1_Score: 0.00000\t Train_Accuracy: 19.52037\t Val_Loss: 2.28368\t Val_F1_Score: 0.00000\t Val_Accuracy: 19.63333\n",
      "Epoch 3\t Iteration 14\t Train_Loss: 2.23849\t Train_F1_Score: 0.12725\t Train_Accuracy: 28.76296\t Val_Loss: 2.16955\t Val_F1_Score: 0.32447\t Val_Accuracy: 28.58333\n",
      "Epoch 4\t Iteration 14\t Train_Loss: 2.08956\t Train_F1_Score: 0.37150\t Train_Accuracy: 47.26481\t Val_Loss: 2.01205\t Val_F1_Score: 0.46644\t Val_Accuracy: 46.18333\n",
      "Epoch 5\t Iteration 14\t Train_Loss: 1.99082\t Train_F1_Score: 0.47216\t Train_Accuracy: 48.30370\t Val_Loss: 1.98779\t Val_F1_Score: 0.47588\t Val_Accuracy: 47.51667\n",
      "Epoch 6\t Iteration 14\t Train_Loss: 1.96101\t Train_F1_Score: 0.49896\t Train_Accuracy: 55.45926\t Val_Loss: 1.90975\t Val_F1_Score: 0.55064\t Val_Accuracy: 54.45000\n",
      "Epoch 7\t Iteration 14\t Train_Loss: 1.87307\t Train_F1_Score: 0.59129\t Train_Accuracy: 61.30370\t Val_Loss: 1.85230\t Val_F1_Score: 0.61158\t Val_Accuracy: 61.05000\n",
      "Epoch 8\t Iteration 14\t Train_Loss: 1.82944\t Train_F1_Score: 0.63587\t Train_Accuracy: 63.24444\t Val_Loss: 1.83902\t Val_F1_Score: 0.63006\t Val_Accuracy: 62.51667\n",
      "Epoch 9\t Iteration 14\t Train_Loss: 1.81923\t Train_F1_Score: 0.64491\t Train_Accuracy: 64.92407\t Val_Loss: 1.81981\t Val_F1_Score: 0.64517\t Val_Accuracy: 64.08333\n",
      "Epoch 10\t Iteration 14\t Train_Loss: 1.80463\t Train_F1_Score: 0.66054\t Train_Accuracy: 66.32222\t Val_Loss: 1.80523\t Val_F1_Score: 0.65770\t Val_Accuracy: 65.38333\n",
      "Epoch 11\t Iteration 14\t Train_Loss: 1.79577\t Train_F1_Score: 0.66732\t Train_Accuracy: 63.78519\t Val_Loss: 1.82150\t Val_F1_Score: 0.63893\t Val_Accuracy: 63.53333\n",
      "Epoch 12\t Iteration 14\t Train_Loss: 1.80075\t Train_F1_Score: 0.66331\t Train_Accuracy: 66.93148\t Val_Loss: 1.79786\t Val_F1_Score: 0.66801\t Val_Accuracy: 66.43333\n",
      "Epoch 13\t Iteration 14\t Train_Loss: 1.78673\t Train_F1_Score: 0.67968\t Train_Accuracy: 67.84630\t Val_Loss: 1.78982\t Val_F1_Score: 0.67396\t Val_Accuracy: 66.95000\n",
      "Epoch 14\t Iteration 14\t Train_Loss: 1.78128\t Train_F1_Score: 0.68524\t Train_Accuracy: 67.90741\t Val_Loss: 1.79379\t Val_F1_Score: 0.67638\t Val_Accuracy: 67.10000\n",
      "Epoch 15\t Iteration 14\t Train_Loss: 1.77614\t Train_F1_Score: 0.69000\t Train_Accuracy: 68.29259\t Val_Loss: 1.78684\t Val_F1_Score: 0.67884\t Val_Accuracy: 67.41667\n",
      "Epoch 16\t Iteration 14\t Train_Loss: 1.77219\t Train_F1_Score: 0.69418\t Train_Accuracy: 68.71111\t Val_Loss: 1.77897\t Val_F1_Score: 0.68494\t Val_Accuracy: 67.93333\n",
      "Epoch 17\t Iteration 14\t Train_Loss: 1.76821\t Train_F1_Score: 0.69947\t Train_Accuracy: 69.50370\t Val_Loss: 1.76882\t Val_F1_Score: 0.69537\t Val_Accuracy: 69.05000\n",
      "Epoch 18\t Iteration 14\t Train_Loss: 1.75065\t Train_F1_Score: 0.71696\t Train_Accuracy: 77.91296\t Val_Loss: 1.70408\t Val_F1_Score: 0.77302\t Val_Accuracy: 77.21667\n",
      "Epoch 19\t Iteration 14\t Train_Loss: 1.68999\t Train_F1_Score: 0.78018\t Train_Accuracy: 78.41296\t Val_Loss: 1.68782\t Val_F1_Score: 0.77895\t Val_Accuracy: 77.83333\n",
      "Epoch 20\t Iteration 14\t Train_Loss: 1.67677\t Train_F1_Score: 0.78730\t Train_Accuracy: 79.09630\t Val_Loss: 1.68237\t Val_F1_Score: 0.78213\t Val_Accuracy: 78.15000\n",
      "Epoch 21\t Iteration 14\t Train_Loss: 1.67166\t Train_F1_Score: 0.79276\t Train_Accuracy: 79.69630\t Val_Loss: 1.67373\t Val_F1_Score: 0.78864\t Val_Accuracy: 78.88333\n",
      "Epoch 22\t Iteration 14\t Train_Loss: 1.66540\t Train_F1_Score: 0.79883\t Train_Accuracy: 79.64259\t Val_Loss: 1.67533\t Val_F1_Score: 0.78730\t Val_Accuracy: 78.66667\n",
      "Epoch 23\t Iteration 14\t Train_Loss: 1.66359\t Train_F1_Score: 0.80281\t Train_Accuracy: 80.07222\t Val_Loss: 1.66846\t Val_F1_Score: 0.79652\t Val_Accuracy: 79.61667\n",
      "Epoch 24\t Iteration 14\t Train_Loss: 1.65896\t Train_F1_Score: 0.80661\t Train_Accuracy: 80.86667\t Val_Loss: 1.66058\t Val_F1_Score: 0.80284\t Val_Accuracy: 80.26667\n",
      "Epoch 25\t Iteration 14\t Train_Loss: 1.65598\t Train_F1_Score: 0.81056\t Train_Accuracy: 78.05741\t Val_Loss: 1.68891\t Val_F1_Score: 0.77440\t Val_Accuracy: 77.33333\n",
      "Epoch 26\t Iteration 14\t Train_Loss: 1.66012\t Train_F1_Score: 0.80309\t Train_Accuracy: 81.17407\t Val_Loss: 1.66285\t Val_F1_Score: 0.80267\t Val_Accuracy: 80.18333\n",
      "Epoch 27\t Iteration 14\t Train_Loss: 1.65168\t Train_F1_Score: 0.81449\t Train_Accuracy: 81.33333\t Val_Loss: 1.65661\t Val_F1_Score: 0.80715\t Val_Accuracy: 80.61667\n",
      "Epoch 28\t Iteration 14\t Train_Loss: 1.65065\t Train_F1_Score: 0.81522\t Train_Accuracy: 80.94074\t Val_Loss: 1.66035\t Val_F1_Score: 0.80040\t Val_Accuracy: 80.05000\n",
      "Epoch 29\t Iteration 14\t Train_Loss: 1.64812\t Train_F1_Score: 0.81575\t Train_Accuracy: 81.51296\t Val_Loss: 1.65364\t Val_F1_Score: 0.80805\t Val_Accuracy: 80.78333\n",
      "Epoch 30\t Iteration 14\t Train_Loss: 1.64564\t Train_F1_Score: 0.81893\t Train_Accuracy: 81.92037\t Val_Loss: 1.64710\t Val_F1_Score: 0.81363\t Val_Accuracy: 81.30000\n",
      "Epoch 31\t Iteration 14\t Train_Loss: 1.64672\t Train_F1_Score: 0.81728\t Train_Accuracy: 81.94630\t Val_Loss: 1.65123\t Val_F1_Score: 0.81173\t Val_Accuracy: 81.10000\n",
      "Epoch 32\t Iteration 14\t Train_Loss: 1.64505\t Train_F1_Score: 0.81914\t Train_Accuracy: 82.13519\t Val_Loss: 1.64918\t Val_F1_Score: 0.81146\t Val_Accuracy: 81.05000\n",
      "Epoch 33\t Iteration 14\t Train_Loss: 1.64206\t Train_F1_Score: 0.82179\t Train_Accuracy: 82.09630\t Val_Loss: 1.64737\t Val_F1_Score: 0.81352\t Val_Accuracy: 81.33333\n",
      "Epoch 34\t Iteration 14\t Train_Loss: 1.64127\t Train_F1_Score: 0.82261\t Train_Accuracy: 82.13519\t Val_Loss: 1.64642\t Val_F1_Score: 0.81676\t Val_Accuracy: 81.68333\n",
      "Epoch 35\t Iteration 14\t Train_Loss: 1.63978\t Train_F1_Score: 0.82375\t Train_Accuracy: 82.30185\t Val_Loss: 1.64808\t Val_F1_Score: 0.81516\t Val_Accuracy: 81.40000\n",
      "Epoch 36\t Iteration 14\t Train_Loss: 1.63911\t Train_F1_Score: 0.82485\t Train_Accuracy: 82.16296\t Val_Loss: 1.64579\t Val_F1_Score: 0.81907\t Val_Accuracy: 81.85000\n",
      "Epoch 37\t Iteration 14\t Train_Loss: 1.64193\t Train_F1_Score: 0.82128\t Train_Accuracy: 81.59444\t Val_Loss: 1.65348\t Val_F1_Score: 0.81035\t Val_Accuracy: 80.98333\n",
      "Epoch 38\t Iteration 14\t Train_Loss: 1.64039\t Train_F1_Score: 0.82262\t Train_Accuracy: 82.15741\t Val_Loss: 1.64903\t Val_F1_Score: 0.81603\t Val_Accuracy: 81.55000\n",
      "Epoch 39\t Iteration 14\t Train_Loss: 1.63690\t Train_F1_Score: 0.82700\t Train_Accuracy: 82.93889\t Val_Loss: 1.64380\t Val_F1_Score: 0.82242\t Val_Accuracy: 82.20000\n",
      "Epoch 40\t Iteration 14\t Train_Loss: 1.63467\t Train_F1_Score: 0.82899\t Train_Accuracy: 82.95926\t Val_Loss: 1.63849\t Val_F1_Score: 0.82418\t Val_Accuracy: 82.33333\n",
      "Epoch 41\t Iteration 14\t Train_Loss: 1.63419\t Train_F1_Score: 0.82893\t Train_Accuracy: 82.52778\t Val_Loss: 1.64423\t Val_F1_Score: 0.81946\t Val_Accuracy: 81.95000\n",
      "Epoch 42\t Iteration 14\t Train_Loss: 1.63748\t Train_F1_Score: 0.82490\t Train_Accuracy: 82.43889\t Val_Loss: 1.64369\t Val_F1_Score: 0.81782\t Val_Accuracy: 81.71667\n",
      "Epoch 43\t Iteration 14\t Train_Loss: 1.63344\t Train_F1_Score: 0.82911\t Train_Accuracy: 83.15370\t Val_Loss: 1.63571\t Val_F1_Score: 0.82703\t Val_Accuracy: 82.66667\n",
      "Epoch 44\t Iteration 14\t Train_Loss: 1.63000\t Train_F1_Score: 0.83181\t Train_Accuracy: 83.02963\t Val_Loss: 1.63608\t Val_F1_Score: 0.82637\t Val_Accuracy: 82.56667\n",
      "Epoch 45\t Iteration 14\t Train_Loss: 1.63084\t Train_F1_Score: 0.83215\t Train_Accuracy: 83.30926\t Val_Loss: 1.63399\t Val_F1_Score: 0.82837\t Val_Accuracy: 82.80000\n",
      "Epoch 46\t Iteration 14\t Train_Loss: 1.62962\t Train_F1_Score: 0.83446\t Train_Accuracy: 83.54074\t Val_Loss: 1.63586\t Val_F1_Score: 0.82922\t Val_Accuracy: 82.86667\n",
      "Epoch 47\t Iteration 14\t Train_Loss: 1.62905\t Train_F1_Score: 0.83411\t Train_Accuracy: 83.39815\t Val_Loss: 1.63528\t Val_F1_Score: 0.82621\t Val_Accuracy: 82.53333\n",
      "Epoch 48\t Iteration 14\t Train_Loss: 1.62919\t Train_F1_Score: 0.83388\t Train_Accuracy: 83.60370\t Val_Loss: 1.63735\t Val_F1_Score: 0.83001\t Val_Accuracy: 82.95000\n",
      "Epoch 49\t Iteration 14\t Train_Loss: 1.62795\t Train_F1_Score: 0.83504\t Train_Accuracy: 82.70185\t Val_Loss: 1.64280\t Val_F1_Score: 0.81855\t Val_Accuracy: 81.76667\n",
      "Epoch 50\t Iteration 14\t Train_Loss: 1.62954\t Train_F1_Score: 0.83313\t Train_Accuracy: 82.86481\t Val_Loss: 1.63630\t Val_F1_Score: 0.82278\t Val_Accuracy: 82.26667\n",
      "Finished Training\n"
     ]
    }
   ],
   "source": [
    "max_epoch = 100\n",
    "for epoch in range(max_epoch):  # loop over the dataset multiple times\n",
    "\n",
    "    running_loss = 0.0\n",
    "    pred_buffer = torch.empty(0).to(device)\n",
    "    label_buffer = torch.empty(0).to(device)\n",
    "    for i, data in enumerate(train_dataloader, 0):\n",
    "        # get the inputs; data is a list of [inputs, labels]\n",
    "        inputs, labels = data[0].to(device), data[1].to(device)\n",
    "\n",
    "        # forward + backward + optimize\n",
    "        outputs = model(inputs)\n",
    "        loss = criterion(outputs, labels)\n",
    "        optimizer.zero_grad()\n",
    "        loss.backward()\n",
    "        optimizer.step()\n",
    "\n",
    "        # Save statistics\n",
    "        running_loss += loss.item()\n",
    "        pred_buffer = torch.cat([pred_buffer,outputs],dim=0)\n",
    "        label_buffer = torch.cat([label_buffer,labels],dim=0)\n",
    "        # Print statistics\n",
    "        if i == len(train_dataloader)-1:    # print at the end of the epoch\n",
    "            f1_score = f1(pred_buffer.cpu(),label_buffer.int().cpu())\n",
    "            accuracy = compute_accuracy(train_dataloader)\n",
    "            val_loss, val_f1_score, val_accuracy = validation_metrics(validation_dataloader)\n",
    "            print(f'Epoch {epoch + 1}\\t Iteration {i + 1}\\t Train_Loss: {running_loss / len(train_dataloader):.5f}\\t ',end=\"\")\n",
    "            print(f\"Train_F1_Score: {f1_score:.5f}\\t Train_Accuracy: {accuracy:.5f}\\t \",end=\"\")\n",
    "            print(f\"Val_Loss: {val_loss:.5f}\\t Val_F1_Score: {val_f1_score:.5f}\\t Val_Accuracy: {val_accuracy:.5f}\")\n",
    "\n",
    "print('Finished Training')"
   ]
  },
  {
   "cell_type": "markdown",
   "metadata": {},
   "source": [
    "## Testing"
   ]
  },
  {
   "cell_type": "code",
   "execution_count": 21,
   "metadata": {},
   "outputs": [
    {
     "name": "stderr",
     "output_type": "stream",
     "text": [
      "C:\\Users\\jerem\\AppData\\Local\\Temp\\ipykernel_12252\\571705098.py:16: UserWarning: Implicit dimension choice for softmax has been deprecated. Change the call to include dim=X as an argument.\n",
      "  x = F.softmax(self.fc2(x))\n"
     ]
    },
    {
     "name": "stdout",
     "output_type": "stream",
     "text": [
      "Accuracy of the network on the 10000 test images: 82.86481 %\n"
     ]
    }
   ],
   "source": [
    "correct = 0\n",
    "total = 0\n",
    "# since we're not training, we don't need to calculate the gradients for our outputs\n",
    "with torch.no_grad():\n",
    "    for data in test_dataloader:\n",
    "        images, labels = data[0].to(device), data[1].to(device)\n",
    "        \n",
    "        # calculate outputs by running images through the network\n",
    "        outputs = model(images)\n",
    "        # the class with the highest energy is what we choose as prediction\n",
    "        _, predicted = torch.max(outputs.data, 1)\n",
    "        _, truth_label = torch.max(labels.data, 1)\n",
    "        total += labels.size(0)\n",
    "        correct += (predicted == truth_label).sum().item()\n",
    "\n",
    "print(f'Accuracy of the network on the 10000 test images: {100 * correct / total:.5f} %')"
   ]
  },
  {
   "cell_type": "markdown",
   "metadata": {},
   "source": [
    "---"
   ]
  },
  {
   "cell_type": "markdown",
   "metadata": {},
   "source": [
    "## Import Data"
   ]
  },
  {
   "cell_type": "code",
   "execution_count": null,
   "metadata": {},
   "outputs": [],
   "source": [
    "def load_data(folder_path):\n",
    "    files = [cv2.imread(join(folder_path,f)) for f in listdir(folder_path) \n",
    "             if os.path.isfile(join(folder_path,f))]\n",
    "    return files"
   ]
  },
  {
   "cell_type": "code",
   "execution_count": null,
   "metadata": {},
   "outputs": [],
   "source": [
    "disease_im = load_data(\"data/chest_xray/train/PNEUMONIA\")\n",
    "healthy_im = load_data(\"data/chest_xray/train/NORMAL/\")"
   ]
  },
  {
   "cell_type": "code",
   "execution_count": null,
   "metadata": {},
   "outputs": [],
   "source": [
    "i = 0\n",
    "show_images([disease_im[i],healthy_im[i]])"
   ]
  },
  {
   "cell_type": "markdown",
   "metadata": {},
   "source": [
    "## EDA"
   ]
  },
  {
   "cell_type": "markdown",
   "metadata": {},
   "source": [
    "#### Size histogram"
   ]
  },
  {
   "cell_type": "code",
   "execution_count": null,
   "metadata": {},
   "outputs": [],
   "source": [
    "plot_size_histogram(disease_im,\"Histogram of image sizes for the tumor set\")\n",
    "plot_size_histogram(healthy_im,\"Histogram of image sizes for the healthy set\")"
   ]
  },
  {
   "cell_type": "markdown",
   "metadata": {},
   "source": [
    "#### Conversion to gray scale"
   ]
  },
  {
   "cell_type": "code",
   "execution_count": null,
   "metadata": {},
   "outputs": [],
   "source": [
    "gray_tumor_im = [cv2.cvtColor(im, cv2.COLOR_BGR2GRAY) for im in tumor_im]\n",
    "gray_healthy_im = [cv2.cvtColor(im, cv2.COLOR_BGR2GRAY) for im in healthy_im]"
   ]
  },
  {
   "cell_type": "markdown",
   "metadata": {},
   "source": [
    "#### Brain segmentation"
   ]
  },
  {
   "cell_type": "code",
   "execution_count": null,
   "metadata": {},
   "outputs": [],
   "source": [
    "compressed_tumor_im = [kmean_compression(im,k=2) for im in gray_tumor_im]\n",
    "compressed_healthy_im = [kmean_compression(im,k=2) for im in gray_healthy_im]\n",
    "show_images([compressed_tumor_im[i],compressed_healthy_im[i]],\"Example of K-Mean compression on our dataset\")"
   ]
  },
  {
   "cell_type": "code",
   "execution_count": null,
   "metadata": {},
   "outputs": [],
   "source": [
    "def crop_brain(image):\n",
    "    # Convert images to gray scale\n",
    "    gray_im = cv2.cvtColor(image, cv2.COLOR_BGR2GRAY)\n",
    "    # Compress/Segment the image using k-means\n",
    "    compressed_im = kmean_compression(gray_im,k=2)\n",
    "    # Remove artifacts\n",
    "    kernel = cv2.getStructuringElement(cv2.MORPH_ELLIPSE,(17,17))\n",
    "    morphed_im = cv2.morphologyEx(compressed_im, cv2.MORPH_OPEN, kernel)\n",
    "    # Masks the brain\n",
    "    mask_im = np.zeros(morphed_im.shape)\n",
    "    mask_im[morphed_im > morphed_im.mean()] = 1\n",
    "    #plt.imshow(mask_im)\n",
    "    plt.imshow(compressed_im)\n",
    "    corners = retrieve_corners_opt(mask_im)\n",
    "    brain_segmentation = extract_brain(image,corners)\n",
    "    return brain_segmentation"
   ]
  },
  {
   "cell_type": "code",
   "execution_count": null,
   "metadata": {},
   "outputs": [],
   "source": [
    "test = crop_brain(tumor_im[i])"
   ]
  },
  {
   "cell_type": "markdown",
   "metadata": {},
   "source": [
    "## Model Creation"
   ]
  },
  {
   "cell_type": "code",
   "execution_count": null,
   "metadata": {},
   "outputs": [],
   "source": [
    "class NeuralNetwork(nn.Module):\n",
    "    def __init__(self):\n",
    "        super(NeuralNetwork, self).__init__()\n",
    "        self.cnn = nn.Sequential(\n",
    "            nn.Conv2d(3,10,kernel_size=(3,3),padding=1),\n",
    "            nn.Conv2d(10,10,kernel_size=(3,3),padding=1),\n",
    "            nn.Conv2d(10,10,kernel_size=(3,3),padding=1)\n",
    "        )\n",
    "        self.flatten = nn.Flatten()\n",
    "        self.linear_relu_stack = nn.Sequential(\n",
    "            nn.Linear(28*28, 512),\n",
    "            nn.ReLU(),\n",
    "            nn.Linear(512, 512),\n",
    "            nn.ReLU(),\n",
    "            nn.Linear(512, 10),\n",
    "            nn.Softmax()\n",
    "        )\n",
    "\n",
    "    def forward(self, x):\n",
    "        x = self.flatten(x)\n",
    "        logits = self.linear_relu_stack(x)\n",
    "        return logits"
   ]
  },
  {
   "cell_type": "code",
   "execution_count": null,
   "metadata": {},
   "outputs": [],
   "source": [
    "model = NeuralNetwork()"
   ]
  },
  {
   "cell_type": "code",
   "execution_count": null,
   "metadata": {},
   "outputs": [],
   "source": []
  }
 ],
 "metadata": {
  "kernelspec": {
   "display_name": "Python 3 (ipykernel)",
   "language": "python",
   "name": "python3"
  },
  "language_info": {
   "codemirror_mode": {
    "name": "ipython",
    "version": 3
   },
   "file_extension": ".py",
   "mimetype": "text/x-python",
   "name": "python",
   "nbconvert_exporter": "python",
   "pygments_lexer": "ipython3",
   "version": "3.9.12"
  }
 },
 "nbformat": 4,
 "nbformat_minor": 4
}
